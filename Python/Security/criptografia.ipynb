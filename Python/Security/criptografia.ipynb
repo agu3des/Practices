{
 "cells": [
  {
   "cell_type": "markdown",
   "metadata": {},
   "source": [
    "## Parte 1 - Cifra de César\n",
    "A cifra de César, também conhecida como cifra de troca ou deslocamento, é uma das técnicas mais simples de criptografia. Ela foi nomeada em homenagem a Júlio César, o imperador romano, embora não haja evidências históricas sólidas de que ele tenha realmente utilizado essa técnica. A ideia básica por trás da cifra de César é **substituir cada letra do alfabeto por outra letra, que está a um certo número de posições à frente ou atrás no alfabeto**.\n",
    "\n",
    "A chave para decifrar a mensagem é conhecer o deslocamento utilizado. Se alguém souber que foi utilizado um deslocamento de 3 posições para a direita, então poderá decifrar a mensagem movendo 3 posições para a esquerda. Apesar de ser uma técnica muito simples e facilmente decifrada por métodos computacionais modernos, a cifra de César é um exemplo histórico importante de criptografia e tem sido usada ao longo da história como um método básico de comunicação secreta."
   ]
  },
  {
   "cell_type": "code",
   "execution_count": null,
   "metadata": {
    "vscode": {
     "languageId": "plaintext"
    }
   },
   "outputs": [],
   "source": [
    "# Fonte: https://medium.com/vacatronics/cifra-de-c%C3%A9sar-em-python-8d02d3bc7d42\n",
    "MODE_ENCRYPT = 1\n",
    "MODE_DECRYPT = 0\n",
    "alphabet = 'abcdefghijklmnopqrstuvwxyz'\n",
    "\n",
    "def caesar(data, key, mode):\n",
    "\n",
    "    new_data = ''\n",
    "    for c in data:\n",
    "        index = alphabet.find(c)\n",
    "        if index == -1:\n",
    "            new_data += c\n",
    "        else:\n",
    "            new_index = index + key if mode == MODE_ENCRYPT else index - key\n",
    "            new_index = new_index % len(alphabet)\n",
    "            new_data += alphabet[new_index:new_index+1]\n",
    "    return new_data\n"
   ]
  },
  {
   "cell_type": "markdown",
   "metadata": {},
   "source": [
    "## Parte 2 - Avaliando o a cifra de César"
   ]
  },
  {
   "cell_type": "code",
   "execution_count": null,
   "metadata": {
    "vscode": {
     "languageId": "plaintext"
    }
   },
   "outputs": [],
   "source": [
    "# Tests\n",
    "key = 10\n",
    "original = 'a ligeira raposa marrom saltou sobre o cachorro cansado'\n",
    "print('  Original:', original)\n",
    "ciphered = caesar(original, key, MODE_ENCRYPT)\n",
    "print('Encriptada:', ciphered)\n",
    "plain = caesar(ciphered, key, MODE_DECRYPT)\n",
    "print('Decriptada:', plain)"
   ]
  },
  {
   "cell_type": "markdown",
   "metadata": {},
   "source": [
    "## Parte 3 - Quebrando a cifra de César\n",
    "\n",
    "O texto cifrado pode com a cifra de César pode ser hackeado com várias possibilidades. Uma dessas possibilidades é a Técnica de Força Bruta, que envolve **tentar todas as chaves de descriptografia possíveis**. Esta técnica não exige muito esforço e é relativamente simples para um hacker. Baseado no seu conhecimento, crie uma função que seja capaz de que tentar todas as chaves possíveis para quebrar a cifra de césar."
   ]
  },
  {
   "cell_type": "code",
   "execution_count": null,
   "metadata": {
    "vscode": {
     "languageId": "plaintext"
    }
   },
   "outputs": [],
   "source": [
    "def hackingCaesar(message):\n",
    "\n",
    "  #Insira o seu código aqui\n",
    "\n",
    "\n",
    "\n",
    "\n",
    "  msgHacked = original\n",
    "  return msgHacked\n",
    "\n",
    "\n",
    "#Executa a função que descobre a cifra de cesar\n",
    "hackingCaesar(ciphered)"
   ]
  },
  {
   "cell_type": "markdown",
   "metadata": {},
   "source": [
    "## Parte 4 - Cifra de Vigenère\n",
    "A cifra de Vigenère é um método de criptografia que utiliza a substituição monoalfabética, entretanto, a **chave é um texto**. Neste caso, é utilizado uma tabela de substituição, conforme descrito abaixo:\n",
    "\n",
    "```console\n",
    "    A|B|C|D|E|F|G|H|I|J|K|L|M|N|O|P|Q|R|S|T|U|V|W|X|Y|Z\n",
    "--------------------------------------------------------\n",
    "A - A|B|C|D|E|F|G|H|I|J|K|L|M|N|O|P|Q|R|S|T|U|V|W|X|Y|Z\n",
    "B - B|C|D|E|F|G|H|I|J|K|L|M|N|O|P|Q|R|S|T|U|V|W|X|Y|Z|A\n",
    "C - C|D|E|F|G|H|I|J|K|L|M|N|O|P|Q|R|S|T|U|V|W|X|Y|Z|A|B\n",
    "D - D|E|F|G|H|I|J|K|L|M|N|O|P|Q|R|S|T|U|V|W|X|Y|Z|A|B|C\n",
    "E - E|F|G|H|I|J|K|L|M|N|O|P|Q|R|S|T|U|V|W|X|Y|Z|A|B|C|D\n",
    "F - F|G|H|I|J|K|L|M|N|O|P|Q|R|S|T|U|V|W|X|Y|Z|A|B|C|D|E\n",
    "G - G|H|I|J|K|L|M|N|O|P|Q|R|S|T|U|V|W|X|Y|Z|A|B|C|D|E|F\n",
    "H - H|I|J|K|L|M|N|O|P|Q|R|S|T|U|V|W|X|Y|Z|A|B|C|D|E|F|G\n",
    "I - I|J|K|L|M|N|O|P|Q|R|S|T|U|V|W|X|Y|Z|A|B|C|D|E|F|G|H\n",
    "J - J|K|L|M|N|O|P|Q|R|S|T|U|V|W|X|Y|Z|A|B|C|D|E|F|G|H|I\n",
    "K - K|L|M|N|O|P|Q|R|S|T|U|V|W|X|Y|Z|A|B|C|D|E|F|G|H|I|J\n",
    "L - L|M|N|O|P|Q|R|S|T|U|V|W|X|Y|Z|A|B|C|D|E|F|G|H|I|J|K\n",
    "M - M|N|O|P|Q|R|S|T|U|V|W|X|Y|Z|A|B|C|D|E|F|G|H|I|J|K|L\n",
    "N - N|O|P|Q|R|S|T|U|V|W|X|Y|Z|A|B|C|D|E|F|G|H|I|J|K|L|M\n",
    "O - O|P|Q|R|S|T|U|V|W|X|Y|Z|A|B|C|D|E|F|G|H|I|J|K|L|M|N\n",
    "P - P|Q|R|S|T|U|V|W|X|Y|Z|A|B|C|D|E|F|G|H|I|J|K|L|M|N|O\n",
    "Q - Q|R|S|T|U|V|W|X|Y|Z|A|B|C|D|E|F|G|H|I|J|K|L|M|N|O|P\n",
    "R - R|S|T|U|V|W|X|Y|Z|A|B|C|D|E|F|G|H|I|J|K|L|M|N|O|P|Q\n",
    "S - S|T|U|V|W|X|Y|Z|A|B|C|D|E|F|G|H|I|J|K|L|M|N|O|P|Q|R\n",
    "T - T|U|V|W|X|Y|Z|A|B|C|D|E|F|G|H|I|J|K|L|M|N|O|P|Q|R|S\n",
    "U - U|V|W|X|Y|Z|A|B|C|D|E|F|G|H|I|J|K|L|M|N|O|P|Q|R|S|T\n",
    "V - V|W|X|Y|Z|A|B|C|D|E|F|G|H|I|J|K|L|M|N|O|P|Q|R|S|T|U\n",
    "W - W|X|Y|Z|A|B|C|D|E|F|G|H|I|J|K|L|M|N|O|P|Q|R|S|T|U|V\n",
    "X - X|Y|Z|A|B|C|D|E|F|G|H|I|J|K|L|M|N|O|P|Q|R|S|T|U|V|W\n",
    "Y - Y|Z|A|B|C|D|E|F|G|H|I|J|K|L|M|N|O|P|Q|R|S|T|U|V|W|X\n",
    "Z - Z|A|B|C|D|E|F|G|H|I|J|K|L|M|N|O|P|Q|R|S|T|U|V|W|X|Y\n",
    "```\n",
    "\n",
    "O processo de cifragem utiliza uma chave que se não tiver o mesmo tamanho do texto a ser cifrado deve ser repetida até que o texto plano e a chave tenham o mesmo tamanho. Por exemplo, tomemos como texto plano **há um espião entre nós** e a chave **hoplita**:\n",
    "\n",
    "```console\n",
    "texto plano - haumespiaoentrenos\n",
    "      chave - hoplita\n",
    "```\n",
    "\n",
    "Veja que o texto plano tem 18 letras e a chave tem 7 letras, assim, vamos repetir a chave hoplita até chegarmos ao tamanho de 18 letras. Ficando assim:\n",
    "\n",
    "```\n",
    "texto plano - haumespiaoentrenos\n",
    "      chave - hoplitahoplitahopl\n",
    "```\n",
    "\n",
    "Agora com a chave de tamanho igual ao texto plano começamos o processo de cifragem. Utilizando a primeira letra do texto plano (h) como coluna e a primeira letra da chave (h) como linha, encontramos na interseção a letra O, que é a letra cifrada de h com o alfabeto h.\n",
    "\n",
    "```\n",
    "  texto plano - haumespiaoentrenos\n",
    "        chave - hoplitahoplitahopl\n",
    "texto cifrado - O\n",
    "```\n",
    "\n",
    "A segunda letra do texto plano (a) utilizará o alfabeto da segunda letra da cifra (o), resultando na letra O novamente.\n",
    "\n",
    "```\n",
    "  texto plano - haumespiaoentrenos\n",
    "        chave - hoplitahoplitahopl\n",
    "texto cifrado - OO\n",
    "```\n",
    "\n",
    "O processo se repetirá para todas as letras do texto plano.\n",
    "\n",
    "```\n",
    "  texto plano - haumespiaoentrenos\n",
    "        chave - hoplitahoplitahopl\n",
    "texto cifrado - OOJXMLPPODPVMRLBDD\n",
    "```\n",
    "\n",
    "Neste nosso exemplo o texto plano há um espião entre nós será cifrado como OOJXMLPPODPVMRLBDD.\n",
    "\n",
    "Baseado no seu conhecimento, crie uma função que seja capaz de que encriptar um texto com a cifra de vigenère.\n"
   ]
  },
  {
   "cell_type": "code",
   "execution_count": null,
   "metadata": {
    "vscode": {
     "languageId": "plaintext"
    }
   },
   "outputs": [],
   "source": [
    "\n",
    "MODE_ENCRYPT = 1\n",
    "MODE_DECRYPT = 0\n",
    "alphabet = 'abcdefghijklmnopqrstuvwxyz'\n",
    "\n",
    "def vigenere(data, key, mode):\n",
    "\n",
    "  #Insira o seu código aqui\n",
    "\n",
    "\n",
    "  result = 'Resultado da sua função'\n",
    "  return result\n",
    "\n"
   ]
  },
  {
   "cell_type": "markdown",
   "metadata": {},
   "source": [
    "## Parte 2 - Avaliando o a cifra de Vigenère"
   ]
  },
  {
   "cell_type": "code",
   "execution_count": null,
   "metadata": {
    "vscode": {
     "languageId": "plaintext"
    }
   },
   "outputs": [],
   "source": [
    "# Tests\n",
    "key = 'ch4ve'\n",
    "original = 'a ligeira raposa marrom saltou sobre o cachorro cansado'\n",
    "print('  Original:', original)\n",
    "ciphered = vigenere(original, key, MODE_ENCRYPT)\n",
    "print('Encriptada:', ciphered)\n",
    "plain = vigenere(ciphered, key, MODE_DECRYPT)\n",
    "print('Decriptada:', plain)"
   ]
  }
 ],
 "metadata": {
  "language_info": {
   "name": "python"
  }
 },
 "nbformat": 4,
 "nbformat_minor": 2
}
