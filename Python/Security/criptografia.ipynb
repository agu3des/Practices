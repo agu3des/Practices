{
 "cells": [
  {
   "cell_type": "markdown",
   "metadata": {},
   "source": [
    "## Parte 1 - Cifra de César\n",
    "A cifra de César, também conhecida como cifra de troca ou deslocamento, é uma das técnicas mais simples de criptografia. Ela foi nomeada em homenagem a Júlio César, o imperador romano, embora não haja evidências históricas sólidas de que ele tenha realmente utilizado essa técnica. A ideia básica por trás da cifra de César é **substituir cada letra do alfabeto por outra letra, que está a um certo número de posições à frente ou atrás no alfabeto**.\n",
    "\n",
    "A chave para decifrar a mensagem é conhecer o deslocamento utilizado. Se alguém souber que foi utilizado um deslocamento de 3 posições para a direita, então poderá decifrar a mensagem movendo 3 posições para a esquerda. Apesar de ser uma técnica muito simples e facilmente decifrada por métodos computacionais modernos, a cifra de César é um exemplo histórico importante de criptografia e tem sido usada ao longo da história como um método básico de comunicação secreta."
   ]
  },
  {
   "cell_type": "code",
   "execution_count": 1,
   "metadata": {},
   "outputs": [],
   "source": [
    "# Fonte: https://medium.com/vacatronics/cifra-de-c%C3%A9sar-em-python-8d02d3bc7d42\n",
    "MODE_ENCRYPT = 1 #indica criptografia\n",
    "MODE_DECRYPT = 0 #indica descriptografia\n",
    "alphabet = 'abcdefghijklmnopqrstuvwxyz' #caracteres serão usados para o deslocamento\n",
    "    #mensagem, n° de posições, função\n",
    "def caesar(data, key, mode):\n",
    "\n",
    "    new_data = '' #cria uma string vazia\n",
    "    for c in data: #percorre para cada caractere na string\n",
    "        index = alphabet.find(c) #vá na variável alfabeto e encontre o index correspondente a variável c\n",
    "        if index == -1: #se não estiver retorna -1\n",
    "            new_data += c #o caractere é adicionado sem edições\n",
    "        else:                        #se for 1 faça index + key, se não, faça index - key\n",
    "            new_index = index + key if mode == MODE_ENCRYPT else index - key\n",
    "            new_index = new_index % len(alphabet) #garantir que não passe do tamanho do alfabeto de 0 a 25\n",
    "            #ndice 26 (além do tamanho do alfabeto), 26 % 26 = 0, voltando para o início\n",
    "            new_data += alphabet[new_index:new_index+1] #pegue do alfabeto exatamente a posição entre o index e o index+1 \n",
    "    return new_data #retorne o novo valor\n"
   ]
  },
  {
   "cell_type": "markdown",
   "metadata": {},
   "source": [
    "## Parte 2 - Avaliando o a cifra de César"
   ]
  },
  {
   "cell_type": "code",
   "execution_count": 3,
   "metadata": {},
   "outputs": [
    {
     "name": "stdout",
     "output_type": "stream",
     "text": [
      "Original: a ligeira raposa marrom saltou sobre o cachorro cansado\n",
      "Encriptada: k vsqosbk bkzyck wkbbyw ckvdye cylbo y mkmrybby mkxckny\n",
      "Decriptada: a ligeira raposa marrom saltou sobre o cachorro cansado\n"
     ]
    }
   ],
   "source": [
    "# Tests\n",
    "key = 10\n",
    "original = 'a ligeira raposa marrom saltou sobre o cachorro cansado'\n",
    "print('Original:', original)\n",
    "\n",
    "ciphered = caesar(original, key, MODE_ENCRYPT) #cripta \n",
    "print('Encriptada:', ciphered)\n",
    "\n",
    "plain = caesar(ciphered, key, MODE_DECRYPT) #descripta \n",
    "print('Decriptada:', plain)"
   ]
  },
  {
   "cell_type": "markdown",
   "metadata": {},
   "source": [
    "## Parte 3 - Quebrando a cifra de César\n",
    "\n",
    "O texto cifrado pode com a cifra de César pode ser hackeado com várias possibilidades. Uma dessas possibilidades é a Técnica de Força Bruta, que envolve **tentar todas as chaves de descriptografia possíveis**. Esta técnica não exige muito esforço e é relativamente simples para um hacker. Baseado no seu conhecimento, crie uma função que seja capaz de que tentar todas as chaves possíveis para quebrar a cifra de césar."
   ]
  },
  {
   "cell_type": "code",
   "execution_count": 5,
   "metadata": {},
   "outputs": [
    {
     "name": "stdout",
     "output_type": "stream",
     "text": [
      "Possíveis mensagens descriptografadas:\n",
      "Key: 1, Decrypted: j urpnraj ajyxbj vjaaxv bjucxd bxkan x ljlqxaax ljwbjmx\n",
      "Key: 2, Decrypted: i tqomqzi zixwai uizzwu aitbwc awjzm w kikpwzzw kivailw\n",
      "Key: 3, Decrypted: h spnlpyh yhwvzh thyyvt zhsavb zviyl v jhjovyyv jhuzhkv\n",
      "Key: 4, Decrypted: g romkoxg xgvuyg sgxxus ygrzua yuhxk u iginuxxu igtygju\n",
      "Key: 5, Decrypted: f qnljnwf wfutxf rfwwtr xfqytz xtgwj t hfhmtwwt hfsxfit\n",
      "Key: 6, Decrypted: e pmkimve vetswe qevvsq wepxsy wsfvi s geglsvvs gerwehs\n",
      "Key: 7, Decrypted: d oljhlud udsrvd pduurp vdowrx vreuh r fdfkruur fdqvdgr\n",
      "Key: 8, Decrypted: c nkigktc tcrquc octtqo ucnvqw uqdtg q ecejqttq ecpucfq\n",
      "Key: 9, Decrypted: b mjhfjsb sbqptb nbsspn tbmupv tpcsf p dbdipssp dbotbep\n",
      "Key: 10, Decrypted: a ligeira raposa marrom saltou sobre o cachorro cansado\n",
      "Key: 11, Decrypted: z khfdhqz qzonrz lzqqnl rzksnt rnaqd n bzbgnqqn bzmrzcn\n",
      "Key: 12, Decrypted: y jgecgpy pynmqy kyppmk qyjrms qmzpc m ayafmppm aylqybm\n",
      "Key: 13, Decrypted: x ifdbfox oxmlpx jxoolj pxiqlr plyob l zxzelool zxkpxal\n",
      "Key: 14, Decrypted: w hecaenw nwlkow iwnnki owhpkq okxna k ywydknnk ywjowzk\n",
      "Key: 15, Decrypted: v gdbzdmv mvkjnv hvmmjh nvgojp njwmz j xvxcjmmj xvinvyj\n",
      "Key: 16, Decrypted: u fcayclu lujimu gullig mufnio mivly i wuwbilli wuhmuxi\n",
      "Key: 17, Decrypted: t ebzxbkt ktihlt ftkkhf ltemhn lhukx h vtvahkkh vtgltwh\n",
      "Key: 18, Decrypted: s daywajs jshgks esjjge ksdlgm kgtjw g usuzgjjg usfksvg\n",
      "Key: 19, Decrypted: r czxvzir irgfjr driifd jrckfl jfsiv f trtyfiif trejruf\n",
      "Key: 20, Decrypted: q bywuyhq hqfeiq cqhhec iqbjek ierhu e sqsxehhe sqdiqte\n",
      "Key: 21, Decrypted: p axvtxgp gpedhp bpggdb hpaidj hdqgt d rprwdggd rpchpsd\n",
      "Key: 22, Decrypted: o zwuswfo fodcgo aoffca gozhci gcpfs c qoqvcffc qobgorc\n",
      "Key: 23, Decrypted: n yvtrven encbfn zneebz fnygbh fboer b pnpubeeb pnafnqb\n",
      "Key: 24, Decrypted: m xusqudm dmbaem ymdday emxfag eandq a omotadda omzempa\n",
      "Key: 25, Decrypted: l wtrptcl clazdl xlcczx dlwezf dzmcp z nlnszccz nlydloz\n"
     ]
    },
    {
     "data": {
      "text/plain": [
       "'a ligeira raposa marrom saltou sobre o cachorro cansado'"
      ]
     },
     "execution_count": 5,
     "metadata": {},
     "output_type": "execute_result"
    }
   ],
   "source": [
    "def hackingCaesar(message):\n",
    "    # Alfabeto utilizado na cifra\n",
    "    alphabet = 'abcdefghijklmnopqrstuvwxyz'\n",
    "    possible_results = []\n",
    "\n",
    "    # Testar todas as chaves possíveis (1 a 25)\n",
    "    for key in range(1, len(alphabet)):\n",
    "        # Descriptografar usando cada chave\n",
    "        decrypted_data = caesar(message, key, MODE_DECRYPT)\n",
    "        possible_results.append((key, decrypted_data))\n",
    "\n",
    "    # Exibir os resultados para análise manual\n",
    "    print(\"Possíveis mensagens descriptografadas:\")\n",
    "    for key, decrypted in possible_results:\n",
    "        print(f\"Key: {key}, Decrypted: {decrypted}\")\n",
    "\n",
    "    # Retornar a mensagem original identificada manualmente\n",
    "    msgHacked = input(\"Digite a mensagem correta após análise manual: \")\n",
    "    return msgHacked\n",
    "\n",
    "#Executa a função que descobre a cifra de cesar\n",
    "hackingCaesar(ciphered)"
   ]
  },
  {
   "cell_type": "markdown",
   "metadata": {},
   "source": [
    "## Parte 4 - Cifra de Vigenère\n",
    "A cifra de Vigenère é um método de criptografia que utiliza a substituição monoalfabética, entretanto, a **chave é um texto**. Neste caso, é utilizado uma tabela de substituição, conforme descrito abaixo:\n",
    "\n",
    "```console\n",
    "    A|B|C|D|E|F|G|H|I|J|K|L|M|N|O|P|Q|R|S|T|U|V|W|X|Y|Z\n",
    "--------------------------------------------------------\n",
    "A - A|B|C|D|E|F|G|H|I|J|K|L|M|N|O|P|Q|R|S|T|U|V|W|X|Y|Z\n",
    "B - B|C|D|E|F|G|H|I|J|K|L|M|N|O|P|Q|R|S|T|U|V|W|X|Y|Z|A\n",
    "C - C|D|E|F|G|H|I|J|K|L|M|N|O|P|Q|R|S|T|U|V|W|X|Y|Z|A|B\n",
    "D - D|E|F|G|H|I|J|K|L|M|N|O|P|Q|R|S|T|U|V|W|X|Y|Z|A|B|C\n",
    "E - E|F|G|H|I|J|K|L|M|N|O|P|Q|R|S|T|U|V|W|X|Y|Z|A|B|C|D\n",
    "F - F|G|H|I|J|K|L|M|N|O|P|Q|R|S|T|U|V|W|X|Y|Z|A|B|C|D|E\n",
    "G - G|H|I|J|K|L|M|N|O|P|Q|R|S|T|U|V|W|X|Y|Z|A|B|C|D|E|F\n",
    "H - H|I|J|K|L|M|N|O|P|Q|R|S|T|U|V|W|X|Y|Z|A|B|C|D|E|F|G\n",
    "I - I|J|K|L|M|N|O|P|Q|R|S|T|U|V|W|X|Y|Z|A|B|C|D|E|F|G|H\n",
    "J - J|K|L|M|N|O|P|Q|R|S|T|U|V|W|X|Y|Z|A|B|C|D|E|F|G|H|I\n",
    "K - K|L|M|N|O|P|Q|R|S|T|U|V|W|X|Y|Z|A|B|C|D|E|F|G|H|I|J\n",
    "L - L|M|N|O|P|Q|R|S|T|U|V|W|X|Y|Z|A|B|C|D|E|F|G|H|I|J|K\n",
    "M - M|N|O|P|Q|R|S|T|U|V|W|X|Y|Z|A|B|C|D|E|F|G|H|I|J|K|L\n",
    "N - N|O|P|Q|R|S|T|U|V|W|X|Y|Z|A|B|C|D|E|F|G|H|I|J|K|L|M\n",
    "O - O|P|Q|R|S|T|U|V|W|X|Y|Z|A|B|C|D|E|F|G|H|I|J|K|L|M|N\n",
    "P - P|Q|R|S|T|U|V|W|X|Y|Z|A|B|C|D|E|F|G|H|I|J|K|L|M|N|O\n",
    "Q - Q|R|S|T|U|V|W|X|Y|Z|A|B|C|D|E|F|G|H|I|J|K|L|M|N|O|P\n",
    "R - R|S|T|U|V|W|X|Y|Z|A|B|C|D|E|F|G|H|I|J|K|L|M|N|O|P|Q\n",
    "S - S|T|U|V|W|X|Y|Z|A|B|C|D|E|F|G|H|I|J|K|L|M|N|O|P|Q|R\n",
    "T - T|U|V|W|X|Y|Z|A|B|C|D|E|F|G|H|I|J|K|L|M|N|O|P|Q|R|S\n",
    "U - U|V|W|X|Y|Z|A|B|C|D|E|F|G|H|I|J|K|L|M|N|O|P|Q|R|S|T\n",
    "V - V|W|X|Y|Z|A|B|C|D|E|F|G|H|I|J|K|L|M|N|O|P|Q|R|S|T|U\n",
    "W - W|X|Y|Z|A|B|C|D|E|F|G|H|I|J|K|L|M|N|O|P|Q|R|S|T|U|V\n",
    "X - X|Y|Z|A|B|C|D|E|F|G|H|I|J|K|L|M|N|O|P|Q|R|S|T|U|V|W\n",
    "Y - Y|Z|A|B|C|D|E|F|G|H|I|J|K|L|M|N|O|P|Q|R|S|T|U|V|W|X\n",
    "Z - Z|A|B|C|D|E|F|G|H|I|J|K|L|M|N|O|P|Q|R|S|T|U|V|W|X|Y\n",
    "```\n",
    "\n",
    "O processo de cifragem utiliza uma chave que se não tiver o mesmo tamanho do texto a ser cifrado deve ser repetida até que o texto plano e a chave tenham o mesmo tamanho. Por exemplo, tomemos como texto plano **há um espião entre nós** e a chave **hoplita**:\n",
    "\n",
    "```console\n",
    "texto plano - haumespiaoentrenos\n",
    "      chave - hoplita\n",
    "```\n",
    "\n",
    "Veja que o texto plano tem 18 letras e a chave tem 7 letras, assim, vamos repetir a chave hoplita até chegarmos ao tamanho de 18 letras. Ficando assim:\n",
    "\n",
    "```\n",
    "texto plano - haumespiaoentrenos\n",
    "      chave - hoplitahoplitahopl\n",
    "```\n",
    "\n",
    "Agora com a chave de tamanho igual ao texto plano começamos o processo de cifragem. Utilizando a primeira letra do texto plano (h) como coluna e a primeira letra da chave (h) como linha, encontramos na interseção a letra O, que é a letra cifrada de h com o alfabeto h.\n",
    "\n",
    "```\n",
    "  texto plano - haumespiaoentrenos\n",
    "        chave - hoplitahoplitahopl\n",
    "texto cifrado - O\n",
    "```\n",
    "\n",
    "A segunda letra do texto plano (a) utilizará o alfabeto da segunda letra da cifra (o), resultando na letra O novamente.\n",
    "\n",
    "```\n",
    "  texto plano - haumespiaoentrenos\n",
    "        chave - hoplitahoplitahopl\n",
    "texto cifrado - OO\n",
    "```\n",
    "\n",
    "O processo se repetirá para todas as letras do texto plano.\n",
    "\n",
    "```\n",
    "  texto plano - haumespiaoentrenos\n",
    "        chave - hoplitahoplitahopl\n",
    "texto cifrado - OOJXMLPPODPVMRLBDD\n",
    "```\n",
    "\n",
    "Neste nosso exemplo o texto plano há um espião entre nós será cifrado como OOJXMLPPODPVMRLBDD.\n",
    "\n",
    "Baseado no seu conhecimento, crie uma função que seja capaz de que encriptar um texto com a cifra de vigenère.\n"
   ]
  },
  {
   "cell_type": "code",
   "execution_count": 7,
   "metadata": {},
   "outputs": [],
   "source": [
    "\n",
    "MODE_ENCRYPT = 1\n",
    "MODE_DECRYPT = 0\n",
    "alphabet = 'abcdefghijklmnopqrstuvwxyz'\n",
    "\n",
    "def vigenere(data, key, mode):\n",
    "    # Garantir que a chave seja repetida até atingir o comprimento do texto\n",
    "    extended_key = (key * (len(data) // len(key))) + key[:len(data) % len(key)]\n",
    "    result = ''\n",
    "\n",
    "    for i, char in enumerate(data):\n",
    "        # Obter o índice do caractere atual no alfabeto\n",
    "        index_data = alphabet.find(char)\n",
    "        index_key = alphabet.find(extended_key[i])\n",
    "        \n",
    "        if index_data == -1:\n",
    "            # Se o caractere não está no alfabeto, adicioná-lo diretamente ao resultado\n",
    "            result += char\n",
    "        else:\n",
    "            # Calcular o novo índice baseado no modo\n",
    "            if mode == MODE_ENCRYPT:\n",
    "                new_index = (index_data + index_key) % len(alphabet)\n",
    "            else:  # MODE_DECRYPT\n",
    "                new_index = (index_data - index_key) % len(alphabet)\n",
    "            \n",
    "            # Adicionar o caractere correspondente ao resultado\n",
    "            result += alphabet[new_index]\n",
    "    \n",
    "    return result\n"
   ]
  },
  {
   "cell_type": "markdown",
   "metadata": {},
   "source": [
    "## Parte 5 - Avaliando o a cifra de Vigenère"
   ]
  },
  {
   "cell_type": "code",
   "execution_count": 8,
   "metadata": {},
   "outputs": [
    {
     "name": "stdout",
     "output_type": "stream",
     "text": [
      "  Original: a ligeira raposa marrom saltou sobre o cachorro cansado\n",
      "Encriptada: c kdkgpqv thojwc lvvtvl wcssjy znwvg n gcjgjvtv xepzzys\n",
      "Decriptada: a ligeira raposa marrom saltou sobre o cachorro cansado\n"
     ]
    }
   ],
   "source": [
    "# Tests\n",
    "key = 'ch4ve'\n",
    "original = 'a ligeira raposa marrom saltou sobre o cachorro cansado'\n",
    "print('  Original:', original)\n",
    "ciphered = vigenere(original, key, MODE_ENCRYPT)\n",
    "print('Encriptada:', ciphered)\n",
    "plain = vigenere(ciphered, key, MODE_DECRYPT)\n",
    "print('Decriptada:', plain)"
   ]
  }
 ],
 "metadata": {
  "kernelspec": {
   "display_name": "Python 3",
   "language": "python",
   "name": "python3"
  },
  "language_info": {
   "codemirror_mode": {
    "name": "ipython",
    "version": 3
   },
   "file_extension": ".py",
   "mimetype": "text/x-python",
   "name": "python",
   "nbconvert_exporter": "python",
   "pygments_lexer": "ipython3",
   "version": "3.9.2"
  }
 },
 "nbformat": 4,
 "nbformat_minor": 2
}
