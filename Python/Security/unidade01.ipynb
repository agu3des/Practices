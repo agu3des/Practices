{
 "cells": [
  {
   "cell_type": "markdown",
   "metadata": {},
   "source": [
    "\n",
    "<br/> <center>Instituto Federal da Paraíba (IFPB)<br/><font size=\"4\"> CST em Sistemas para Internet</center></font>\n",
    "</p>\n",
    "\n",
    "<br/>\n",
    "<font size=\"4\"><center><b>Disciplina: Segurança de Dados</b></center></font>\n",
    "  \n",
    "<font size=\"3\"><center>Prof. PhD Leandro Almeida</center></font>\n",
    "\n",
    "<br/>\n",
    "<br/>\n",
    "\n",
    "<center><i><b>"
   ]
  },
  {
   "cell_type": "markdown",
   "metadata": {},
   "source": [
    "# Parte 1 - Instalação e uso do scapy"
   ]
  },
  {
   "cell_type": "code",
   "execution_count": null,
   "metadata": {
    "vscode": {
     "languageId": "plaintext"
    }
   },
   "outputs": [],
   "source": [
    "!pip install scapy"
   ]
  },
  {
   "cell_type": "markdown",
   "metadata": {},
   "source": [
    "### 1.1 Carrega a biblioteca Scapy"
   ]
  },
  {
   "cell_type": "code",
   "execution_count": null,
   "metadata": {
    "vscode": {
     "languageId": "plaintext"
    }
   },
   "outputs": [],
   "source": [
    "from scapy.all import *"
   ]
  },
  {
   "cell_type": "markdown",
   "metadata": {},
   "source": [
    "### 1.2 Criar um objeto pacote (pkt) e imprime cabeçalhos de cada camada e seus respectivos campos"
   ]
  },
  {
   "cell_type": "code",
   "execution_count": null,
   "metadata": {
    "vscode": {
     "languageId": "plaintext"
    }
   },
   "outputs": [],
   "source": [
    "pkt = Ether()/IP()/TCP()\n",
    "pkt.show()"
   ]
  },
  {
   "cell_type": "markdown",
   "metadata": {},
   "source": [
    "# Parte 2 - Ataques (Sniffing e Spoofing)"
   ]
  },
  {
   "cell_type": "markdown",
   "metadata": {},
   "source": [
    "### 2.1 - Sniffing: Captura dois pacotes que passaram pela interface de rede e imprime os cabeçalhos e seus respectivos campos."
   ]
  },
  {
   "cell_type": "code",
   "execution_count": null,
   "metadata": {
    "vscode": {
     "languageId": "plaintext"
    }
   },
   "outputs": [],
   "source": [
    "def handle_pkt(pkt):\n",
    "  pkt.show()\n",
    "\n",
    "sniff(count=2, prn = lambda x: handle_pkt(x))"
   ]
  },
  {
   "cell_type": "markdown",
   "metadata": {},
   "source": [
    "### 2.2 - Spoofing: Passo1: cria um pacote ICMP e envia este pacote para o localhost (127.0.0.1). Passo2: altera o endereço IP de origem (adicionando um endereço de origem falso) e envia este pacote para o localhost (127.0.0.1). Obs: Pare (interomper!) a execução do Passo 2 após alguns segundos."
   ]
  },
  {
   "cell_type": "code",
   "execution_count": null,
   "metadata": {
    "vscode": {
     "languageId": "plaintext"
    }
   },
   "outputs": [],
   "source": [
    "# Passo1\n",
    "pkt = IP()/ICMP()\n",
    "pkt.show()\n",
    "sr1(pkt)"
   ]
  },
  {
   "cell_type": "code",
   "execution_count": null,
   "metadata": {
    "vscode": {
     "languageId": "plaintext"
    }
   },
   "outputs": [],
   "source": [
    "# Passo2 dos\n",
    "pkt_falso = IP(src='10.10.10.10')/ICMP()\n",
    "pkt_falso.show()\n",
    "sr1(pkt_falso)\n",
    "\n",
    "#SRC recebe ICMP reply de DST porem não fez nenhum  ICMP request"
   ]
  }
 ],
 "metadata": {
  "language_info": {
   "name": "python"
  }
 },
 "nbformat": 4,
 "nbformat_minor": 2
}
